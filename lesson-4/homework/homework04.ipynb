{
 "cells": [
  {
   "cell_type": "code",
   "execution_count": null,
   "id": "initial_id",
   "metadata": {
    "collapsed": true
   },
   "outputs": [],
   "source": [
    ""
   ]
  },
  {
   "metadata": {
    "ExecuteTime": {
     "end_time": "2025-02-23T08:56:32.546096Z",
     "start_time": "2025-02-23T08:56:32.538591Z"
    }
   },
   "cell_type": "code",
   "source": [
    "# Hometask 1\n",
    "#1\n",
    "food = ['rice','beans']\n",
    "#2\n",
    "food.append('broccoli')\n",
    "#3 ,4\n",
    "food.extend(['bread','pizza'])\n",
    "#5\n",
    "print(food)\n",
    "print(food[:2])"
   ],
   "id": "b195aa9b09ed7878",
   "outputs": [
    {
     "name": "stdout",
     "output_type": "stream",
     "text": [
      "['rice', 'beans', 'broccoli', 'bread', 'pizza']\n",
      "['rice', 'beans']\n"
     ]
    }
   ],
   "execution_count": 1
  },
  {
   "metadata": {
    "ExecuteTime": {
     "end_time": "2025-02-23T08:56:44.754281Z",
     "start_time": "2025-02-23T08:56:44.748868Z"
    }
   },
   "cell_type": "code",
   "source": [
    "# Hometask Number2\n",
    "\n",
    "j = 'eggs,fruit,orange,juice'\n",
    "breakfast=j.split(',')\n",
    "length= [len(item) for item in breakfast]\n",
    "print(breakfast)\n",
    "print(length)"
   ],
   "id": "844c750ec416d43f",
   "outputs": [
    {
     "name": "stdout",
     "output_type": "stream",
     "text": [
      "['eggs', 'fruit', 'orange', 'juice']\n",
      "[4, 5, 6, 5]\n"
     ]
    }
   ],
   "execution_count": 2
  },
  {
   "metadata": {},
   "cell_type": "code",
   "outputs": [],
   "execution_count": null,
   "source": [
    "#Hometask Number 3\n",
    "#method 1\n",
    "\"\"\"temp = a\n",
    "a = b\n",
    "b = temp\"\"\"\n",
    "#method 2\n",
    "\"\"\"a = a + b\n",
    "b = a - b\n",
    "a = a - b\"\"\"\n",
    "#method 3\n",
    "\"\"\"a, b = b, a\"\"\""
   ],
   "id": "786b2c5da09bf21b"
  }
 ],
 "metadata": {
  "kernelspec": {
   "display_name": "Python 3",
   "language": "python",
   "name": "python3"
  },
  "language_info": {
   "codemirror_mode": {
    "name": "ipython",
    "version": 2
   },
   "file_extension": ".py",
   "mimetype": "text/x-python",
   "name": "python",
   "nbconvert_exporter": "python",
   "pygments_lexer": "ipython2",
   "version": "2.7.6"
  }
 },
 "nbformat": 4,
 "nbformat_minor": 5
}
