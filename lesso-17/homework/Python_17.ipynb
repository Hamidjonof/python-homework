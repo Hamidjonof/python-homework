{
 "cells": [
  {
   "cell_type": "code",
   "execution_count": 1,
   "id": "86fed2c0",
   "metadata": {},
   "outputs": [
    {
     "name": "stdout",
     "output_type": "stream",
     "text": [
      "Dastlabki 3 qator:\n",
      "      ism  yosh         shahar\n",
      "0    Elis    25       Nyu-York\n",
      "1     Bob    30  San-Fransisko\n",
      "2  Charli    35    Los Anjeles\n",
      "\n",
      "O'rtacha yosh: 32.5\n",
      "\n",
      "Ism va shahar ustunlari:\n",
      "      ism         shahar\n",
      "0    Elis       Nyu-York\n",
      "1     Bob  San-Fransisko\n",
      "2  Charli    Los Anjeles\n",
      "3   Devid        Chikago\n",
      "\n",
      "Statistik ma'lumot:\n",
      "            yosh     ish_haqi\n",
      "count   4.000000     4.000000\n",
      "mean   32.500000  6208.750000\n",
      "std     6.454972  1325.777099\n",
      "min    25.000000  4860.000000\n",
      "25%    28.750000  5185.500000\n",
      "50%    32.500000  6234.000000\n",
      "75%    36.250000  7257.250000\n",
      "max    40.000000  7507.000000\n"
     ]
    }
   ],
   "source": [
    "import pandas as pd\n",
    "import numpy as np\n",
    "\n",
    "# Ma'lumotlar\n",
    "data = {\n",
    "    'Ism': ['Elis', 'Bob', 'Charli', 'Devid'],\n",
    "    'yosh': [25, 30, 35, 40],\n",
    "    'shahar': ['Nyu-York', 'San-Fransisko', 'Los Anjeles', 'Chikago']\n",
    "}\n",
    "\n",
    "# DataFrame yaratish\n",
    "df = pd.DataFrame(data)\n",
    "\n",
    "# 1. Ustun nomlarini o'zgartirish\n",
    "df = df.rename(columns={'Ism': 'ism', 'yosh': 'yosh'})\n",
    "\n",
    "# 2. Dastlabki 3 qatorni chiqarish\n",
    "print(\"Dastlabki 3 qator:\")\n",
    "print(df.head(3))\n",
    "\n",
    "# 3. O'rtacha yosh\n",
    "print(\"\\nO'rtacha yosh:\", df['yosh'].mean())\n",
    "\n",
    "# 4. Faqat 'ism' va 'shahar' ustunlari\n",
    "print(\"\\nIsm va shahar ustunlari:\")\n",
    "print(df[['ism', 'shahar']])\n",
    "\n",
    "# 5. Tasodifiy 'ish haqi' ustuni qo‘shish\n",
    "np.random.seed(42)  # tasodifiylikni nazorat qilish uchun\n",
    "df['ish_haqi'] = np.random.randint(4000, 8000, size=len(df))\n",
    "\n",
    "# 6. Qisqacha statistik ma’lumot\n",
    "print(\"\\nStatistik ma'lumot:\")\n",
    "print(df.describe())\n"
   ]
  },
  {
   "cell_type": "code",
   "execution_count": null,
   "id": "f77814d0",
   "metadata": {},
   "outputs": [],
   "source": []
  }
 ],
 "metadata": {
  "kernelspec": {
   "display_name": "Python 3",
   "language": "python",
   "name": "python3"
  },
  "language_info": {
   "codemirror_mode": {
    "name": "ipython",
    "version": 3
   },
   "file_extension": ".py",
   "mimetype": "text/x-python",
   "name": "python",
   "nbconvert_exporter": "python",
   "pygments_lexer": "ipython3",
   "version": "3.12.7"
  }
 },
 "nbformat": 4,
 "nbformat_minor": 5
}
