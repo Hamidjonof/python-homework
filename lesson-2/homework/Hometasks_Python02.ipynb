{
 "cells": [
  {
   "cell_type": "code",
   "id": "initial_id",
   "metadata": {
    "collapsed": true,
    "ExecuteTime": {
     "end_time": "2025-02-17T05:53:42.984933Z",
     "start_time": "2025-02-17T05:53:35.459988Z"
    }
   },
   "source": [
    "#1\n",
    "from datetime import datetime\n",
    "Name = input(\"Enter your name: \")\n",
    "Birthdate = int(input(\"Enter your birthdate: \"))\n",
    "age = datetime.now().year - Birthdate\n",
    "print(f'{Name}ning yoshi {age} da.')"
   ],
   "outputs": [
    {
     "name": "stdout",
     "output_type": "stream",
     "text": [
      "Azizbekning yoshi 22 da.\n"
     ]
    }
   ],
   "execution_count": 9
  },
  {
   "metadata": {
    "ExecuteTime": {
     "end_time": "2025-02-17T05:57:22.154554Z",
     "start_time": "2025-02-17T05:57:22.147908Z"
    }
   },
   "cell_type": "code",
   "source": [
    "#2\n",
    "CarName ='LMaasleitbtui'\n",
    "print(CarName[::2])\n",
    "print(CarName[1::2])"
   ],
   "id": "3c0c1b7ea90d5dca",
   "outputs": [
    {
     "name": "stdout",
     "output_type": "stream",
     "text": [
      "Lasetti\n",
      "Malibu\n"
     ]
    }
   ],
   "execution_count": 15
  },
  {
   "metadata": {
    "ExecuteTime": {
     "end_time": "2025-02-17T05:58:59.166486Z",
     "start_time": "2025-02-17T05:58:59.157755Z"
    }
   },
   "cell_type": "code",
   "source": [
    "#3\n",
    "CarName ='MsaatmiazD'\n",
    "print(CarName[::2])\n",
    "print(CarName[-1::-2])"
   ],
   "id": "4ad0fb8aff9478f7",
   "outputs": [
    {
     "name": "stdout",
     "output_type": "stream",
     "text": [
      "Matiz\n",
      "Damas\n"
     ]
    }
   ],
   "execution_count": 18
  },
  {
   "metadata": {
    "ExecuteTime": {
     "end_time": "2025-02-17T06:11:25.834558Z",
     "start_time": "2025-02-17T06:11:12.576370Z"
    }
   },
   "cell_type": "code",
   "source": [
    "#4\n",
    "txt=input(\"Who are you and Where are you from ? \")\n",
    "txt=txt.split(' ')\n",
    "print(txt[-1::])"
   ],
   "id": "50f50a04ac0fda4c",
   "outputs": [
    {
     "name": "stdout",
     "output_type": "stream",
     "text": [
      "['Namangan']\n"
     ]
    }
   ],
   "execution_count": 28
  },
  {
   "metadata": {},
   "cell_type": "code",
   "outputs": [],
   "execution_count": null,
   "source": "",
   "id": "2547bca10bf687a5"
  }
 ],
 "metadata": {
  "kernelspec": {
   "display_name": "Python 3",
   "language": "python",
   "name": "python3"
  },
  "language_info": {
   "codemirror_mode": {
    "name": "ipython",
    "version": 2
   },
   "file_extension": ".py",
   "mimetype": "text/x-python",
   "name": "python",
   "nbconvert_exporter": "python",
   "pygments_lexer": "ipython2",
   "version": "2.7.6"
  }
 },
 "nbformat": 4,
 "nbformat_minor": 5
}
