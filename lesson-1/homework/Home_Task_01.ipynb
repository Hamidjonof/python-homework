{
 "cells": [
  {
   "cell_type": "code",
   "id": "initial_id",
   "metadata": {
    "collapsed": true,
    "ExecuteTime": {
     "end_time": "2025-02-14T07:07:19.007604Z",
     "start_time": "2025-02-14T07:07:15.897157Z"
    }
   },
   "source": [
    "from librosa.util.files import index\n",
    "\n",
    "#Kvadratning tomoni berilgan. Uning perimetri va yuzasini toping.\n",
    "a = int(input(\"Kvadrat tomonini kiriting !\"))\n",
    "print(f'Ushbu kvadrat perimetri {4*a} ga yuzi esa {a*a} ga teng.')"
   ],
   "outputs": [
    {
     "name": "stdout",
     "output_type": "stream",
     "text": [
      "Ushbu kvadrat perimetri 36 ga yuzi esa 81 ga teng.\n"
     ]
    }
   ],
   "execution_count": 3
  },
  {
   "metadata": {
    "ExecuteTime": {
     "end_time": "2025-02-14T07:14:48.737641Z",
     "start_time": "2025-02-14T07:14:46.082525Z"
    }
   },
   "cell_type": "code",
   "source": [
    "#Doiraning diametri berilgan. Uning uzunligini toping.\n",
    "import math\n",
    "d = float(input(\"Doiraning uzunligini kiriting !\"))\n",
    "L= math.pi*d\n",
    "S=math.pi*(d/2)**2\n",
    "print(f'Ushbu doira yuzi {S} ga uzunligi esa {L} ga teng!')"
   ],
   "id": "278e830a99952f9e",
   "outputs": [
    {
     "name": "stdout",
     "output_type": "stream",
     "text": [
      "Ushbu doira yuzi 78.53981633974483 ga uzunligi esa 31.41592653589793 ga teng!\n"
     ]
    }
   ],
   "execution_count": 8
  },
  {
   "metadata": {
    "ExecuteTime": {
     "end_time": "2025-02-14T07:18:17.118780Z",
     "start_time": "2025-02-14T07:18:08.130175Z"
    }
   },
   "cell_type": "code",
   "source": [
    "#Ikki son a va b berilgan. Ularning o'rtacha qiymatini toping.\n",
    "a=int(input(\"a sonni kiriting !\"))\n",
    "b=int(input(\"b sonni kiriting !\"))\n",
    "Avg=a+b/2\n",
    "print(f'{a} va {b} sonlarnining o\\'rtacha qiymati {Avg} ga teng.')"
   ],
   "id": "7abfccdb07f79415",
   "outputs": [
    {
     "name": "stdout",
     "output_type": "stream",
     "text": [
      "12 va 39 sonlarnining o'rtacha qiymati 31.5 ga teng.\n"
     ]
    }
   ],
   "execution_count": 11
  },
  {
   "metadata": {
    "ExecuteTime": {
     "end_time": "2025-02-14T09:04:16.649586Z",
     "start_time": "2025-02-14T09:04:09.839563Z"
    }
   },
   "cell_type": "code",
   "source": [
    "#Ikki son a va b berilgan. Ularning yig‘indisi, ko‘paytmasi va har birining kvadratini toping.\n",
    "a=int(input('Sonni kiriting .'))\n",
    "b=int(input('Sonni kiriting .'))\n",
    "S=a+b\n",
    "k=a*b\n",
    "Kv1=a**2\n",
    "Kv2=b**2\n",
    "print(f'{a} va {b} sonlar yig\\'indisi {S} ga ko\\'paytmalari {k} ,{a} ning kvadrati {Kv1} ga {b} ning kvadrati {Kv2}  ga teng.')"
   ],
   "id": "c83bec2d40542ae3",
   "outputs": [
    {
     "name": "stdout",
     "output_type": "stream",
     "text": [
      "7 va 9 sonlar yig'indisi 16 ga ko'paytmalari 63 ,7ning kvadrati 49 ga 9ning kvadrati 81  ga teng.\n"
     ]
    }
   ],
   "execution_count": 17
  },
  {
   "metadata": {
    "ExecuteTime": {
     "end_time": "2025-02-14T12:58:01.013715Z",
     "start_time": "2025-02-14T12:58:01.009991Z"
    }
   },
   "cell_type": "code",
   "source": [
    "cities = 'NMnaodbrsiidL'\n",
    "print(cities(1::2))\n",
    "print(cities(:1:-2))\n"
   ],
   "id": "a487951ec0d6350b",
   "outputs": [
    {
     "ename": "SyntaxError",
     "evalue": "invalid syntax (2081505786.py, line 2)",
     "output_type": "error",
     "traceback": [
      "\u001B[1;36m  Cell \u001B[1;32mIn[1], line 2\u001B[1;36m\u001B[0m\n\u001B[1;33m    print(cities(1::2))\u001B[0m\n\u001B[1;37m                  ^\u001B[0m\n\u001B[1;31mSyntaxError\u001B[0m\u001B[1;31m:\u001B[0m invalid syntax\n"
     ]
    }
   ],
   "execution_count": 1
  },
  {
   "metadata": {
    "ExecuteTime": {
     "end_time": "2025-02-14T13:33:27.250128Z",
     "start_time": "2025-02-14T13:30:38.176707Z"
    }
   },
   "cell_type": "code",
   "source": [
    "bill=float(input(\"Summani kiriting\"))\n",
    "tip=float(input(\"Tip kiriting\"))\n",
    "howmany = int(input(\"Necha kishi ekanligini kiriting\"))\n",
    "total_per_person=(bill+(bill*tip*0.01))/howmany\n",
    "print(f'Har bir kishiga {total_per_person} dan tushadi.')\n"
   ],
   "id": "ea7832e121a8a50d",
   "outputs": [
    {
     "ename": "KeyboardInterrupt",
     "evalue": "Interrupted by user",
     "output_type": "error",
     "traceback": [
      "\u001B[1;31m---------------------------------------------------------------------------\u001B[0m",
      "\u001B[1;31mKeyboardInterrupt\u001B[0m                         Traceback (most recent call last)",
      "Cell \u001B[1;32mIn[8], line 2\u001B[0m\n\u001B[0;32m      1\u001B[0m bill\u001B[38;5;241m=\u001B[39m\u001B[38;5;28mfloat\u001B[39m(\u001B[38;5;28minput\u001B[39m(\u001B[38;5;124m\"\u001B[39m\u001B[38;5;124mSummani kiriting\u001B[39m\u001B[38;5;124m\"\u001B[39m))\n\u001B[1;32m----> 2\u001B[0m tip\u001B[38;5;241m=\u001B[39m\u001B[38;5;28mfloat\u001B[39m(\u001B[38;5;28;43minput\u001B[39;49m\u001B[43m(\u001B[49m\u001B[38;5;124;43m\"\u001B[39;49m\u001B[38;5;124;43mTip kiriting\u001B[39;49m\u001B[38;5;124;43m\"\u001B[39;49m\u001B[43m)\u001B[49m)\n\u001B[0;32m      3\u001B[0m howmany \u001B[38;5;241m=\u001B[39m \u001B[38;5;28mint\u001B[39m(\u001B[38;5;28minput\u001B[39m(\u001B[38;5;124m\"\u001B[39m\u001B[38;5;124mNecha kishi ekanligini kiriting\u001B[39m\u001B[38;5;124m\"\u001B[39m))\n\u001B[0;32m      4\u001B[0m total_per_person\u001B[38;5;241m=\u001B[39m(bill\u001B[38;5;241m+\u001B[39m(bill\u001B[38;5;241m*\u001B[39mtip\u001B[38;5;241m*\u001B[39m\u001B[38;5;241m0.01\u001B[39m))\u001B[38;5;241m/\u001B[39mhowmany\n",
      "File \u001B[1;32m~\\PycharmProjects\\Demo1\\.venv\\Lib\\site-packages\\ipykernel\\kernelbase.py:1282\u001B[0m, in \u001B[0;36mKernel.raw_input\u001B[1;34m(self, prompt)\u001B[0m\n\u001B[0;32m   1280\u001B[0m     msg \u001B[38;5;241m=\u001B[39m \u001B[38;5;124m\"\u001B[39m\u001B[38;5;124mraw_input was called, but this frontend does not support input requests.\u001B[39m\u001B[38;5;124m\"\u001B[39m\n\u001B[0;32m   1281\u001B[0m     \u001B[38;5;28;01mraise\u001B[39;00m StdinNotImplementedError(msg)\n\u001B[1;32m-> 1282\u001B[0m \u001B[38;5;28;01mreturn\u001B[39;00m \u001B[38;5;28;43mself\u001B[39;49m\u001B[38;5;241;43m.\u001B[39;49m\u001B[43m_input_request\u001B[49m\u001B[43m(\u001B[49m\n\u001B[0;32m   1283\u001B[0m \u001B[43m    \u001B[49m\u001B[38;5;28;43mstr\u001B[39;49m\u001B[43m(\u001B[49m\u001B[43mprompt\u001B[49m\u001B[43m)\u001B[49m\u001B[43m,\u001B[49m\n\u001B[0;32m   1284\u001B[0m \u001B[43m    \u001B[49m\u001B[38;5;28;43mself\u001B[39;49m\u001B[38;5;241;43m.\u001B[39;49m\u001B[43m_parent_ident\u001B[49m\u001B[43m[\u001B[49m\u001B[38;5;124;43m\"\u001B[39;49m\u001B[38;5;124;43mshell\u001B[39;49m\u001B[38;5;124;43m\"\u001B[39;49m\u001B[43m]\u001B[49m\u001B[43m,\u001B[49m\n\u001B[0;32m   1285\u001B[0m \u001B[43m    \u001B[49m\u001B[38;5;28;43mself\u001B[39;49m\u001B[38;5;241;43m.\u001B[39;49m\u001B[43mget_parent\u001B[49m\u001B[43m(\u001B[49m\u001B[38;5;124;43m\"\u001B[39;49m\u001B[38;5;124;43mshell\u001B[39;49m\u001B[38;5;124;43m\"\u001B[39;49m\u001B[43m)\u001B[49m\u001B[43m,\u001B[49m\n\u001B[0;32m   1286\u001B[0m \u001B[43m    \u001B[49m\u001B[43mpassword\u001B[49m\u001B[38;5;241;43m=\u001B[39;49m\u001B[38;5;28;43;01mFalse\u001B[39;49;00m\u001B[43m,\u001B[49m\n\u001B[0;32m   1287\u001B[0m \u001B[43m\u001B[49m\u001B[43m)\u001B[49m\n",
      "File \u001B[1;32m~\\PycharmProjects\\Demo1\\.venv\\Lib\\site-packages\\ipykernel\\kernelbase.py:1325\u001B[0m, in \u001B[0;36mKernel._input_request\u001B[1;34m(self, prompt, ident, parent, password)\u001B[0m\n\u001B[0;32m   1322\u001B[0m \u001B[38;5;28;01mexcept\u001B[39;00m \u001B[38;5;167;01mKeyboardInterrupt\u001B[39;00m:\n\u001B[0;32m   1323\u001B[0m     \u001B[38;5;66;03m# re-raise KeyboardInterrupt, to truncate traceback\u001B[39;00m\n\u001B[0;32m   1324\u001B[0m     msg \u001B[38;5;241m=\u001B[39m \u001B[38;5;124m\"\u001B[39m\u001B[38;5;124mInterrupted by user\u001B[39m\u001B[38;5;124m\"\u001B[39m\n\u001B[1;32m-> 1325\u001B[0m     \u001B[38;5;28;01mraise\u001B[39;00m \u001B[38;5;167;01mKeyboardInterrupt\u001B[39;00m(msg) \u001B[38;5;28;01mfrom\u001B[39;00m\u001B[38;5;250m \u001B[39m\u001B[38;5;28;01mNone\u001B[39;00m\n\u001B[0;32m   1326\u001B[0m \u001B[38;5;28;01mexcept\u001B[39;00m \u001B[38;5;167;01mException\u001B[39;00m:\n\u001B[0;32m   1327\u001B[0m     \u001B[38;5;28mself\u001B[39m\u001B[38;5;241m.\u001B[39mlog\u001B[38;5;241m.\u001B[39mwarning(\u001B[38;5;124m\"\u001B[39m\u001B[38;5;124mInvalid Message:\u001B[39m\u001B[38;5;124m\"\u001B[39m, exc_info\u001B[38;5;241m=\u001B[39m\u001B[38;5;28;01mTrue\u001B[39;00m)\n",
      "\u001B[1;31mKeyboardInterrupt\u001B[0m: Interrupted by user"
     ]
    }
   ],
   "execution_count": 8
  },
  {
   "metadata": {
    "ExecuteTime": {
     "end_time": "2025-02-14T13:44:19.383289Z",
     "start_time": "2025-02-14T13:44:13.911346Z"
    }
   },
   "cell_type": "code",
   "source": [
    "import random\n",
    "a = random.randint(1, 5)\n",
    "names=input('Enter your names, like in the exmple: a,b,c ')\n",
    "names = names.split(',')\n",
    "print((names[a:]))\n"
   ],
   "id": "bcf74f0f38b5aeec",
   "outputs": [
    {
     "name": "stdout",
     "output_type": "stream",
     "text": [
      "['Ajiniyazbek', 'ShoxruxAzizbek', 'Raxmiddin', 'Xusniddin', 'Ajiniyazbek', 'ShoxruxAzizbek', 'Raxmiddin', 'Xusniddin', 'Ajiniyazbek', 'ShoxruxAzizbek', 'Raxmiddin', 'Xusniddin', 'Ajiniyazbek', 'Shoxrux']\n"
     ]
    }
   ],
   "execution_count": 29
  }
 ],
 "metadata": {
  "kernelspec": {
   "display_name": "Python 3",
   "language": "python",
   "name": "python3"
  },
  "language_info": {
   "codemirror_mode": {
    "name": "ipython",
    "version": 2
   },
   "file_extension": ".py",
   "mimetype": "text/x-python",
   "name": "python",
   "nbconvert_exporter": "python",
   "pygments_lexer": "ipython2",
   "version": "2.7.6"
  }
 },
 "nbformat": 4,
 "nbformat_minor": 5
}
