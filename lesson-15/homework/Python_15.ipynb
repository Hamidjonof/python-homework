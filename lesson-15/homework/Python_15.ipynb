{
 "cells": [
  {
   "cell_type": "code",
   "execution_count": null,
   "metadata": {},
   "outputs": [],
   "source": [
    "import sqlite3\n",
    "\n",
    "# Step 1: Create database and table\n",
    "conn = sqlite3.connect(\"starfleet.db\")\n",
    "cursor = conn.cursor()\n",
    "\n",
    "cursor.execute(\"\"\"\n",
    "CREATE TABLE IF NOT EXISTS Roster (\n",
    "    Name TEXT,\n",
    "    Species TEXT,\n",
    "    Age INTEGER\n",
    ")\n",
    "\"\"\")"
   ]
  },
  {
   "cell_type": "code",
   "execution_count": null,
   "metadata": {},
   "outputs": [],
   "source": [
    "# Step 2: Insert data into the table\n",
    "cursor.executemany(\"\"\"\n",
    "INSERT INTO Roster (Name, Species, Age) VALUES (?, ?, ?)\n",
    "\"\"\", [\n",
    "    (\"Benjamin Sisko\", \"Human\", 40),\n",
    "    (\"Jadzia Dax\", \"Trill\", 300),\n",
    "    (\"Kira Nerys\", \"Bajoran\", 29)\n",
    "])\n",
    "\n",
    "conn.commit()"
   ]
  },
  {
   "cell_type": "code",
   "execution_count": null,
   "metadata": {},
   "outputs": [],
   "source": [
    "# Step 4: Retrieve Name and Age of Bajorans\n",
    "cursor.execute(\"\"\"\n",
    "SELECT Name, Age FROM Roster WHERE Species = 'Bajoran'\n",
    "\"\"\")\n",
    "bajorans = cursor.fetchall()\n",
    "\n",
    "print(\"Bajorans in the Roster:\")\n",
    "for name, age in bajorans:\n",
    "    print(f\"Name: {name}, Age: {age}\")\n",
    "\n",
    "# Close the connection\n",
    "conn.close()"
   ]
  }
 ],
 "metadata": {
  "language_info": {
   "name": "python"
  }
 },
 "nbformat": 4,
 "nbformat_minor": 2
}
