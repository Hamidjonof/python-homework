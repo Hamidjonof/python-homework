{
 "cells": [
  {
   "cell_type": "code",
   "execution_count": null,
   "metadata": {},
   "outputs": [],
   "source": [
    "[\n",
    "    {\"name\": \"Ali\", \"age\": 22, \"major\": \"Computer Science\"},\n",
    "    {\"name\": \"Zaynab\", \"age\": 21, \"major\": \"Mathematics\"},\n",
    "    {\"name\": \"Umar\", \"age\": 23, \"major\": \"Physics\"}\n",
    "]\n"
   ]
  },
  {
   "cell_type": "code",
   "execution_count": null,
   "metadata": {},
   "outputs": [],
   "source": [
    "import json\n",
    "\n",
    "with open(\"students.json\", \"r\", encoding=\"utf-8\") as file:\n",
    "    students = json.load(file)\n",
    "\n",
    "for student in students:\n",
    "    print(f\"Name: {student['name']}, Age: {student['age']}, Major: {student['major']}\")\n"
   ]
  },
  {
   "cell_type": "code",
   "execution_count": null,
   "metadata": {},
   "outputs": [],
   "source": [
    "import requests\n",
    "\n",
    "API_KEY = \"YOUR_API_KEY\"  # OpenWeatherMap API kalitingizni kiriting\n",
    "CITY = \"Tashkent\"\n",
    "URL = f\"http://api.openweathermap.org/data/2.5/weather?q={CITY}&appid={API_KEY}&units=metric\"\n",
    "\n",
    "response = requests.get(URL)\n",
    "weather_data = response.json()\n",
    "\n",
    "if response.status_code == 200:\n",
    "    print(f\"City: {weather_data['name']}\")\n",
    "    print(f\"Temperature: {weather_data['main']['temp']}°C\")\n",
    "    print(f\"Humidity: {weather_data['main']['humidity']}%\")\n",
    "    print(f\"Weather: {weather_data['weather'][0]['description']}\")\n",
    "else:\n",
    "    print(\"Failed to retrieve weather data.\")\n"
   ]
  }
 ],
 "metadata": {
  "language_info": {
   "name": "python"
  }
 },
 "nbformat": 4,
 "nbformat_minor": 2
}
