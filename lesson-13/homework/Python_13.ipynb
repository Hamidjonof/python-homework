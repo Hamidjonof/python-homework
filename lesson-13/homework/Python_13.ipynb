{
 "cells": [
  {
   "cell_type": "code",
   "execution_count": null,
   "metadata": {},
   "outputs": [],
   "source": [
    "from datetime import date\n",
    "\n",
    "birthdate = input(\"Enter your birthdate (YYYY-MM-DD): \")\n",
    "birthdate = date.fromisoformat(birthdate)\n",
    "today = date.today()\n",
    "\n",
    "age_years = today.year - birthdate.year\n",
    "age_months = today.month - birthdate.month\n",
    "age_days = today.day - birthdate.day\n",
    "\n",
    "if age_days < 0:\n",
    "    age_months -= 1\n",
    "    age_days += 30  # Approximate adjustment\n",
    "\n",
    "if age_months < 0:\n",
    "    age_years -= 1\n",
    "    age_months += 12\n",
    "\n",
    "print(f\"Your age: {age_years} years, {age_months} months, {age_days} days\")\n"
   ]
  },
  {
   "cell_type": "code",
   "execution_count": null,
   "metadata": {},
   "outputs": [],
   "source": [
    "from datetime import date, timedelta\n",
    "\n",
    "birthdate = input(\"Enter your birthdate (YYYY-MM-DD): \")\n",
    "birthdate = date.fromisoformat(birthdate)\n",
    "today = date.today()\n",
    "\n",
    "next_birthday = birthdate.replace(year=today.year)\n",
    "if next_birthday < today:\n",
    "    next_birthday = next_birthday.replace(year=today.year + 1)\n",
    "\n",
    "days_remaining = (next_birthday - today).days\n",
    "print(f\"Days until next birthday: {days_remaining}\")\n"
   ]
  },
  {
   "cell_type": "code",
   "execution_count": null,
   "metadata": {},
   "outputs": [],
   "source": [
    "from datetime import datetime, timedelta\n",
    "\n",
    "current_datetime = input(\"Enter current date and time (YYYY-MM-DD HH:MM): \")\n",
    "duration_hours = int(input(\"Enter meeting duration (hours): \"))\n",
    "duration_minutes = int(input(\"Enter meeting duration (minutes): \"))\n",
    "\n",
    "current_datetime = datetime.strptime(current_datetime, \"%Y-%m-%d %H:%M\")\n",
    "end_datetime = current_datetime + timedelta(hours=duration_hours, minutes=duration_minutes)\n",
    "\n",
    "print(f\"The meeting will end at: {end_datetime.strftime('%Y-%m-%d %H:%M')}\")\n"
   ]
  },
  {
   "cell_type": "code",
   "execution_count": null,
   "metadata": {},
   "outputs": [],
   "source": [
    "from datetime import datetime\n",
    "import pytz\n",
    "\n",
    "dt_str = input(\"Enter date and time (YYYY-MM-DD HH:MM): \")\n",
    "from_tz = input(\"Enter your current timezone (e.g., UTC, US/Eastern): \")\n",
    "to_tz = input(\"Enter the target timezone: \")\n",
    "\n",
    "dt = datetime.strptime(dt_str, \"%Y-%m-%d %H:%M\")\n",
    "dt = pytz.timezone(from_tz).localize(dt)\n",
    "converted_dt = dt.astimezone(pytz.timezone(to_tz))\n",
    "\n",
    "print(f\"Converted date and time: {converted_dt.strftime('%Y-%m-%d %H:%M %Z')}\")\n"
   ]
  },
  {
   "cell_type": "code",
   "execution_count": null,
   "metadata": {},
   "outputs": [],
   "source": [
    "import time\n",
    "from datetime import datetime\n",
    "\n",
    "target_time = input(\"Enter future date and time (YYYY-MM-DD HH:MM): \")\n",
    "target_time = datetime.strptime(target_time, \"%Y-%m-%d %H:%M\")\n",
    "\n",
    "while True:\n",
    "    remaining = target_time - datetime.now()\n",
    "    if remaining.total_seconds() <= 0:\n",
    "        print(\"Countdown finished!\")\n",
    "        break\n",
    "    print(f\"Time remaining: {remaining}\")\n",
    "    time.sleep(1)\n"
   ]
  },
  {
   "cell_type": "code",
   "execution_count": null,
   "metadata": {},
   "outputs": [],
   "source": [
    "import re\n",
    "\n",
    "email = input(\"Enter an email address: \")\n",
    "pattern = r\"^[a-zA-Z0-9_.+-]+@[a-zA-Z0-9-]+\\.[a-zA-Z0-9-.]+$\"\n",
    "\n",
    "if re.match(pattern, email):\n",
    "    print(\"Valid email address!\")\n",
    "else:\n",
    "    print(\"Invalid email address.\")\n"
   ]
  },
  {
   "cell_type": "code",
   "execution_count": null,
   "metadata": {},
   "outputs": [],
   "source": [
    "import re\n",
    "\n",
    "phone = input(\"Enter a 10-digit phone number: \")\n",
    "pattern = r\"(\\d{3})(\\d{3})(\\d{4})\"\n",
    "\n",
    "formatted_phone = re.sub(pattern, r\"(\\1) \\2-\\3\", phone)\n",
    "print(f\"Formatted phone number: {formatted_phone}\")\n"
   ]
  },
  {
   "cell_type": "code",
   "execution_count": null,
   "metadata": {},
   "outputs": [],
   "source": [
    "import re\n",
    "\n",
    "password = input(\"Enter a password: \")\n",
    "length = len(password) >= 8\n",
    "uppercase = bool(re.search(r\"[A-Z]\", password))\n",
    "lowercase = bool(re.search(r\"[a-z]\", password))\n",
    "digit = bool(re.search(r\"\\d\", password))\n",
    "\n",
    "if length and uppercase and lowercase and digit:\n",
    "    print(\"Strong password!\")\n",
    "else:\n",
    "    print(\"Weak password. Ensure it has at least 8 characters, one uppercase, one lowercase, and one digit.\")\n"
   ]
  },
  {
   "cell_type": "code",
   "execution_count": null,
   "metadata": {},
   "outputs": [],
   "source": [
    "import re\n",
    "\n",
    "text = input(\"Enter text: \")\n",
    "word = input(\"Enter word to find: \")\n",
    "matches = re.findall(rf\"\\b{word}\\b\", text, re.IGNORECASE)\n",
    "\n",
    "print(f\"Occurrences of '{word}': {len(matches)}\")\n"
   ]
  },
  {
   "cell_type": "code",
   "execution_count": null,
   "metadata": {},
   "outputs": [],
   "source": [
    "import re\n",
    "\n",
    "text = input(\"Enter text: \")\n",
    "pattern = r\"\\b\\d{4}-\\d{2}-\\d{2}\\b\"\n",
    "\n",
    "dates = re.findall(pattern, text)\n",
    "print(\"Extracted dates:\", dates)\n"
   ]
  }
 ],
 "metadata": {
  "kernelspec": {
   "display_name": "Python 3",
   "language": "python",
   "name": "python3"
  },
  "language_info": {
   "name": "python",
   "version": "3.12.7"
  }
 },
 "nbformat": 4,
 "nbformat_minor": 2
}
